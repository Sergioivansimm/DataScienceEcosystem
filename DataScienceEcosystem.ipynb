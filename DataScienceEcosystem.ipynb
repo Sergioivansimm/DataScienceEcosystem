{
  "nbformat": 4,
  "nbformat_minor": 0,
  "metadata": {
    "colab": {
      "provenance": [],
      "authorship_tag": "ABX9TyNobh0ztLNeUstu6W8UJKbR",
      "include_colab_link": true
    },
    "kernelspec": {
      "name": "python3",
      "display_name": "Python 3"
    },
    "language_info": {
      "name": "python"
    }
  },
  "cells": [
    {
      "cell_type": "markdown",
      "metadata": {
        "id": "view-in-github",
        "colab_type": "text"
      },
      "source": [
        "<a href=\"https://colab.research.google.com/github/Sergioivansimm/DataScienceEcosystem/blob/main/DataScienceEcosystem.ipynb\" target=\"_parent\"><img src=\"https://colab.research.google.com/assets/colab-badge.svg\" alt=\"Open In Colab\"/></a>"
      ]
    },
    {
      "cell_type": "markdown",
      "source": [
        "#DataScienceEcosystem"
      ],
      "metadata": {
        "id": "npcIhkwDEy_j"
      }
    },
    {
      "cell_type": "markdown",
      "source": [
        "This notebook summarizes the data science tools and ecosystem."
      ],
      "metadata": {
        "id": "cbfOjjmZFs4q"
      }
    },
    {
      "cell_type": "markdown",
      "source": [
        "Some of the popular languages that Data Scientists use are:\n",
        "\n",
        "\n",
        "1.   Python\n",
        "2.   R\n",
        "3.   Julia\n",
        "4.   Java\n",
        "5.   Scala"
      ],
      "metadata": {
        "id": "6AKG0bb8Fu8P"
      }
    },
    {
      "cell_type": "markdown",
      "source": [
        "Some of the commonly used libraries used by Data Scientists include:\n",
        "\n",
        "\n",
        "1.   Pandas\n",
        "2.   NumPy\n",
        "3.   SciPy\n",
        "4.   Matplotlib\n",
        "5.   TensorFlow\n",
        "\n"
      ],
      "metadata": {
        "id": "afbpLELTHZfk"
      }
    },
    {
      "cell_type": "markdown",
      "source": [
        "| Data Science Tools|\n",
        "|:-----------------:|\n",
        "|Apache Spark|\n",
        "|Weka|\n",
        "|Rstudio|\n",
        "|Git|"
      ],
      "metadata": {
        "id": "x1QmfT8zIhX0"
      }
    },
    {
      "cell_type": "markdown",
      "source": [
        "### Below are a few examples of evaluating arithmetic expressions in Python"
      ],
      "metadata": {
        "id": "lO0RBPRcLHhP"
      }
    },
    {
      "cell_type": "code",
      "source": [
        "#This a simple arithmetic expression to mutiply then add integers\n",
        "(3*4)+5\n",
        "# Result : 17"
      ],
      "metadata": {
        "colab": {
          "base_uri": "https://localhost:8080/"
        },
        "id": "FHW2ii4-FscP",
        "outputId": "f5d1d442-5b1d-4d90-ddac-3fd2d97ff180"
      },
      "execution_count": 1,
      "outputs": [
        {
          "output_type": "execute_result",
          "data": {
            "text/plain": [
              "17"
            ]
          },
          "metadata": {},
          "execution_count": 1
        }
      ]
    },
    {
      "cell_type": "code",
      "execution_count": 2,
      "metadata": {
        "colab": {
          "base_uri": "https://localhost:8080/"
        },
        "id": "ac8RUTdYEmzd",
        "outputId": "edbc42bd-9a4f-4dd4-a8d8-b8eaaf9a334c"
      },
      "outputs": [
        {
          "output_type": "execute_result",
          "data": {
            "text/plain": [
              "3.3333333333333335"
            ]
          },
          "metadata": {},
          "execution_count": 2
        }
      ],
      "source": [
        "# This will convert 200 minutes to hours by diving by 60\n",
        "minutes = 200\n",
        "hours = minutes / 60\n",
        "hours"
      ]
    },
    {
      "cell_type": "markdown",
      "source": [
        "**Objectives:**\n",
        "\n",
        "\n",
        "*   Create a Jupyter Notebook\n",
        "*   Create markdown cell\n",
        "*   Create a code cell\n",
        "*   Share your notebook through GitHub\n",
        "\n"
      ],
      "metadata": {
        "id": "hO9oPjObMzYs"
      }
    },
    {
      "cell_type": "markdown",
      "source": [
        "## Author:\n",
        "Sergio Medina"
      ],
      "metadata": {
        "id": "O-O73mA8NtSq"
      }
    }
  ]
}